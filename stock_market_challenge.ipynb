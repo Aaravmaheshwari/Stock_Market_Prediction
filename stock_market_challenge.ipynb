{
 "cells": [
  {
   "cell_type": "code",
   "execution_count": 359,
   "metadata": {},
   "outputs": [],
   "source": [
    "import pandas as pd\n",
    "from pandas_datareader import data\n",
    "import matplotlib.pyplot as plt\n",
    "%matplotlib inline"
   ]
  },
  {
   "cell_type": "code",
   "execution_count": 360,
   "metadata": {},
   "outputs": [],
   "source": [
    "#we use SPY for a mean market movement estimation\n",
    "tickers = [\"MSFT\", \"SPY\"]\n",
    "data_source = 'yahoo'\n",
    "start_date = '2000-01-01'\n",
    "end_date = '2017-09-08'\n",
    "panel_data = data.DataReader(tickers, data_source, start_date, end_date)\n",
    "close = panel_data.loc['Close']\n",
    "all_weekdays = pd.date_range(start=start_date, end=end_date, freq='B')\n",
    "close = close.reindex(all_weekdays)\n",
    "close = close.dropna()"
   ]
  },
  {
   "cell_type": "code",
   "execution_count": 361,
   "metadata": {},
   "outputs": [
    {
     "data": {
      "text/html": [
       "<div>\n",
       "<style>\n",
       "    .dataframe thead tr:only-child th {\n",
       "        text-align: right;\n",
       "    }\n",
       "\n",
       "    .dataframe thead th {\n",
       "        text-align: left;\n",
       "    }\n",
       "\n",
       "    .dataframe tbody tr th {\n",
       "        vertical-align: top;\n",
       "    }\n",
       "</style>\n",
       "<table border=\"1\" class=\"dataframe\">\n",
       "  <thead>\n",
       "    <tr style=\"text-align: right;\">\n",
       "      <th></th>\n",
       "      <th>MSFT</th>\n",
       "      <th>SPY</th>\n",
       "    </tr>\n",
       "  </thead>\n",
       "  <tbody>\n",
       "    <tr>\n",
       "      <th>2000-01-03</th>\n",
       "      <td>58.28125</td>\n",
       "      <td>145.4375</td>\n",
       "    </tr>\n",
       "    <tr>\n",
       "      <th>2000-01-04</th>\n",
       "      <td>56.31250</td>\n",
       "      <td>139.7500</td>\n",
       "    </tr>\n",
       "    <tr>\n",
       "      <th>2000-01-05</th>\n",
       "      <td>56.90625</td>\n",
       "      <td>140.0000</td>\n",
       "    </tr>\n",
       "    <tr>\n",
       "      <th>2000-01-06</th>\n",
       "      <td>55.00000</td>\n",
       "      <td>137.7500</td>\n",
       "    </tr>\n",
       "    <tr>\n",
       "      <th>2000-01-07</th>\n",
       "      <td>55.71875</td>\n",
       "      <td>145.7500</td>\n",
       "    </tr>\n",
       "  </tbody>\n",
       "</table>\n",
       "</div>"
      ],
      "text/plain": [
       "                MSFT       SPY\n",
       "2000-01-03  58.28125  145.4375\n",
       "2000-01-04  56.31250  139.7500\n",
       "2000-01-05  56.90625  140.0000\n",
       "2000-01-06  55.00000  137.7500\n",
       "2000-01-07  55.71875  145.7500"
      ]
     },
     "execution_count": 361,
     "metadata": {},
     "output_type": "execute_result"
    }
   ],
   "source": [
    "close.head()"
   ]
  },
  {
   "cell_type": "code",
   "execution_count": null,
   "metadata": {},
   "outputs": [],
   "source": []
  },
  {
   "cell_type": "code",
   "execution_count": 362,
   "metadata": {},
   "outputs": [],
   "source": [
    "#GDP of USA from 1999 to 2016. Source: https://www.google.de/publicdata/explore?ds=d5bncppjof8f9_\n",
    "GDP=list(map(float,\"\"\"34620\n",
    "36449\n",
    "37273\n",
    "38166\n",
    "39677\n",
    "41921\n",
    "44307\n",
    "46437\n",
    "48061\n",
    "48401\n",
    "47001\n",
    "48373\n",
    "49790\n",
    "51450\n",
    "52787\n",
    "54598\n",
    "56207\n",
    "57466\"\"\".split()))"
   ]
  },
  {
   "cell_type": "code",
   "execution_count": 363,
   "metadata": {},
   "outputs": [],
   "source": [
    "close['GDP'] = 0 #create column"
   ]
  },
  {
   "cell_type": "code",
   "execution_count": 364,
   "metadata": {},
   "outputs": [],
   "source": [
    "for i, year in enumerate(range(1999,2017)):\n",
    "    close.loc[\"%s-01-01\"%(year+1) :\"%s-12-31\"%(year+1),'GDP'] = GDP[i]\n",
    "    "
   ]
  },
  {
   "cell_type": "code",
   "execution_count": 365,
   "metadata": {},
   "outputs": [
    {
     "data": {
      "text/plain": [
       "<matplotlib.axes._subplots.AxesSubplot at 0x1b2479fc588>"
      ]
     },
     "execution_count": 365,
     "metadata": {},
     "output_type": "execute_result"
    },
    {
     "data": {
      "image/png": "[encoded data removed]",
      "text/plain": [
       "<matplotlib.figure.Figure at 0x1b245e5ee10>"
      ]
     },
     "metadata": {},
     "output_type": "display_data"
    }
   ],
   "source": [
    "close.plot(y=\"GDP\")"
   ]
  },
  {
   "cell_type": "code",
   "execution_count": 366,
   "metadata": {
    "collapsed": true
   },
   "outputs": [],
   "source": [
    "#weather information scraped from: https://www.wunderground.com/history/airport/KJFK/2000/1/1/DailyHistory.html?req_city=&req_state=&req_statename=&reqdb.zip=&reqdb.magic=&reqdb.wmo=&MR=1\n",
    "mean_temps = [11.0, 11.0, 3.0, 1.0, 6.0, 9.0, 7.0, 6.0, 2.0, 8.0, 12.0, 7.0, 4.0, 9.0, 1.0, 1.0, 3.0, 9.0, 9.0, 1.0, 1.0, 3.0, 3.0, 2.0, 2.0, 4.0, 1.0, 4.0, 4.0, 7.0, 2.0, 4.0, 0.0, 0.0, 1.0, 2.0, 2.0, 3.0, 3.0, 8.0, 4.0, 6.0, 4.0, 8.0, 8.0, 10.0, 12.0, 10.0, 4.0, 4.0, 7.0, 11.0, 5.0, 4.0, 4.0, 6.0, 4.0, 12.0, 7.0, 11.0, 10.0, 8.0, 8.0, 11.0, 12.0, 8.0, 10.0, 12.0, 8.0, 4.0, 8.0, 5.0, 6.0, 9.0, 6.0, 10.0, 10.0, 14.0, 10.0, 5.0, 6.0, 10.0, 10.0, 14.0, 11.0, 12.0, 19.0, 22.0, 23.0, 17.0, 17.0, 17.0, 14.0, 13.0, 17.0, 17.0, 13.0, 12.0, 13.0, 18.0, 19.0, 19.0, 13.0, 13.0, 19.0, 19.0, 19.0, 20.0, 20.0, 20.0, 20.0, 18.0, 14.0, 13.0, 18.0, 22.0, 20.0, 22.0, 21.0, 24.0, 24.0, 24.0, 26.0, 22.0, 20.0, 22.0, 23.0, 27.0, 22.0, 22.0, 28.0, 24.0, 22.0, 23.0, 22.0, 22.0, 27.0, 19.0, 20.0, 21.0, 22.0, 20.0, 19.0, 20.0, 20.0, 23.0, 21.0, 24.0, 24.0, 24.0, 28.0, 28.0, 27.0, 26.0, 25.0, 24.0, 24.0, 24.0, 24.0, 24.0, 23.0, 23.0, 23.0, 23.0, 23.0, 23.0, 23.0, 23.0, 23.0, 25.0, 16.0, 16.0, 16.0, 20.0, 21.0, 23.0, 24.0, 20.0, 20.0, 19.0, 19.0, 23.0, 22.0, 17.0, 14.0, 12.0, 13.0, 16.0, 11.0, 17.0, 21.0, 17.0, 16.0, 19.0, 7.0, 7.0, 14.0, 13.0, 17.0, 14.0, 13.0, 14.0, 14.0, 12.0, 10.0, 13.0, 16.0, 14.0, 14.0, 6.0, 10.0, 10.0, 12.0, 13.0, 9.0, 9.0, 11.0, 12.0, 14.0, 8.0, 9.0, 6.0, 6.0, 8.0, 3.0, 1.0, 0.0, 1.0, 9.0, 7.0, 6.0, 5.0, 3.0, 1.0, 3.0, 2.0, 0.0, 1.0, 6.0, 4.0, 3.0, 3.0, 1.0, 1.0, 1.0, 0.0, 2.0, 3.0, 6.0, 3.0, 5.0, 4.0, 6.0, 5.0, 2.0, 3.0, 1.0, 1.0, 2.0, 2.0, 2.0, 4.0, 4.0, 1.0, 3.0, 2.0, 2.0, 1.0, 0.0, 3.0, 1.0, 6.0, 4.0, 6.0, 3.0, 1.0, 4.0, 4.0, 1.0, 6.0, 3.0, 4.0, 3.0, 6.0, 2.0, 7.0, 1.0, 7.0, 2.0, 6.0, 5.0, 0.0, 1.0, 2.0, 0.0, 1.0, 2.0, 0.0, 3.0, 3.0, 6.0, 7.0, 6.0, 8.0, 7.0, 7.0, 6.0, 4.0, 9.0, 0.0, 1.0, 3.0, 3.0, 5.0, 6.0, 7.0, 7.0, 8.0, 7.0, 11.0, 11.0, 9.0, 11.0, 10.0, 9.0, 8.0, 6.0, 8.0, 18.0, 18.0, 11.0, 11.0, 11.0, 14.0, 19.0, 20.0, 22.0, 23.0, 9.0, 11.0, 14.0, 20.0, 21.0, 16.0, 17.0, 13.0, 13.0, 13.0, 13.0, 16.0, 14.0, 16.0, 13.0, 18.0, 16.0, 16.0, 14.0, 18.0, 19.0, 22.0, 19.0, 22.0, 21.0, 21.0, 22.0, 22.0, 22.0, 23.0, 23.0, 23.0, 22.0, 22.0, 23.0, 26.0, 27.0, 29.0, 24.0, 18.0, 18.0, 23.0, 21.0, 23.0, 26.0, 24.0, 22.0, 21.0, 23.0, 26.0, 23.0, 22.0, 21.0, 24.0, 26.0, 29.0, 23.0, 20.0, 21.0, 21.0, 25.0, 26.0, 24.0, 26.0, 29.0, 32.0, 30.0, 28.0, 25.0, 24.0, 23.0, 22.0, 26.0, 26.0, 25.0, 26.0, 24.0, 23.0, 24.0, 24.0, 23.0, 22.0, 26.0, 22.0, 22.0, 19.0, 22.0, 24.0, 18.0, 20.0, 20.0, 21.0, 21.0, 22.0, 19.0, 14.0, 15.0, 14.0, 11.0, 16.0, 18.0, 20.0, 19.0, 8.0, 8.0, 13.0, 17.0, 17.0, 18.0, 13.0, 12.0, 10.0, 10.0, 18.0, 16.0, 19.0, 21.0, 11.0, 8.0, 12.0, 9.0, 13.0, 16.0, 9.0, 9.0, 13.0, 8.0, 9.0, 5.0, 6.0, 9.0, 13.0, 16.0, 10.0, 8.0, 4.0, 8.0, 14.0, 10.0, 14.0, 11.0, 14.0, 7.0, 11.0, 14.0, 16.0, 13.0, 4.0, 9.0, 6.0, 10.0, 11.0, 7.0, 9.0, 8.0, 6.0, 3.0, 7.0, 1.0, 1.0, 2.0, 3.0, 1.0, 0.0, 0.0, 0.0, 2.0, 2.0, 7.0, 7.0, 4.0, 6.0, 4.0, 5.0, 1.0, 5.0, 6.0, 8.0, 6.0, 8.0, 12.0, 11.0, 4.0, 8.0, 2.0, 3.0, 2.0, 3.0, 7.0, 4.0, 1.0, 1.0, 2.0, 3.0, 3.0, 7.0, 12.0, 8.0, 4.0, 9.0, 4.0, 1.0, 3.0, 2.0, 2.0, 8.0, 9.0, 7.0, 1.0, 6.0, 6.0, 10.0, 9.0, 2.0, 5.0, 6.0, 5.0, 3.0, 6.0, 7.0, 8.0, 7.0, 12.0, 8.0, 11.0, 7.0, 3.0, 9.0, 12.0, 14.0, 10.0, 8.0, 19.0, 21.0, 24.0, 24.0, 20.0, 9.0, 8.0, 8.0, 9.0, 9.0, 10.0, 9.0, 13.0, 13.0, 13.0, 14.0, 17.0, 17.0, 11.0, 18.0, 11.0, 12.0, 14.0, 17.0, 21.0, 10.0, 11.0, 13.0, 14.0, 20.0, 19.0, 20.0, 19.0, 21.0, 19.0, 18.0, 21.0, 21.0, 17.0, 21.0, 22.0, 24.0, 16.0, 14.0, 20.0, 20.0, 21.0, 21.0, 21.0, 28.0, 24.0, 26.0, 27.0, 26.0, 26.0, 27.0, 31.0, 27.0, 24.0, 27.0, 25.0, 21.0, 21.0, 26.0, 27.0, 23.0, 29.0, 26.0, 26.0, 28.0, 23.0, 21.0, 19.0, 30.0, 31.0, 28.0, 29.0, 27.0, 28.0, 24.0, 22.0, 23.0, 23.0, 25.0, 28.0, 27.0, 26.0, 26.0, 28.0, 23.0, 24.0, 23.0, 22.0, 22.0, 24.0, 21.0, 19.0, 18.0, 21.0, 27.0, 23.0, 20.0, 23.0, 23.0, 22.0, 18.0, 21.0, 23.0, 21.0, 21.0, 21.0, 21.0, 20.0, 20.0, 19.0, 16.0, 19.0, 17.0, 21.0, 23.0, 22.0, 19.0, 20.0, 13.0, 13.0, 16.0, 14.0, 11.0, 9.0, 14.0, 12.0, 11.0, 11.0, 9.0, 9.0, 6.0, 9.0, 8.0, 5.0, 4.0, 7.0, 7.0, 7.0, 7.0, 8.0, 4.0, 8.0, 16.0, 11.0, 8.0, 8.0, 10.0, 6.0, 5.0, 8.0, 7.0, 9.0, 7.0, 6.0, 1.0, 1.0, 2.0, 2.0, 4.0, 3.0, 1.0, 5.0, 2.0, 1.0, 5.0, 4.0, 2.0, 3.0, 2.0, 3.0, 9.0, 4.0, 2.0, 0.0, 1.0, 2.0, 6.0, 1.0, 0.0, 0.0, 2.0, 2.0, 7.0, 3.0, 0.0, 4.0, 3.0, 4.0, 6.0, 6.0, 8.0, 10.0, 8.0, 8.0, 9.0, 2.0, 3.0, 1.0, 6.0, 6.0, 1.0, 3.0, 1.0, 1.0, 4.0, 3.0, 6.0, 6.0, 2.0, 2.0, 3.0, 0.0, 0.0, 3.0, 7.0, 3.0, 0.0, 3.0, 3.0, 6.0, 0.0, 5.0, 4.0, 2.0, 3.0, 4.0, 2.0, 14.0, 11.0, 3.0, 6.0, 10.0, 9.0, 7.0, 10.0, 10.0, 9.0, 3.0, 2.0, 8.0, 8.0, 3.0, 1.0, 1.0, 2.0, 6.0, 4.0, 8.0, 12.0, 20.0, 5.0, 8.0, 11.0, 8.0, 10.0, 11.0, 14.0, 17.0, 13.0, 13.0, 16.0, 10.0, 11.0, 16.0, 13.0, 12.0, 15.0, 13.0, 14.0, 14.0, 13.0, 14.0, 17.0, 13.0, 12.0, 11.0, 13.0, 14.0, 17.0, 19.0, 17.0, 17.0, 12.0, 18.0, 19.0, 17.0, 22.0, 19.0, 22.0, 17.0, 16.0, 14.0, 17.0, 19.0, 19.0, 22.0, 26.0, 28.0, 29.0, 28.0, 24.0, 23.0, 24.0, 21.0, 27.0, 28.0, 25.0, 20.0, 22.0, 22.0, 22.0, 24.0, 24.0, 23.0, 23.0, 23.0, 23.0, 22.0, 24.0, 26.0, 21.0, 21.0, 22.0, 23.0, 24.0, 23.0, 23.0, 23.0, 24.0, 24.0, 24.0, 24.0, 29.0, 28.0, 21.0, 23.0, 26.0, 26.0, 28.0, 24.0, 24.0, 27.0, 24.0, 23.0, 17.0, 19.0, 22.0, 22.0, 21.0, 20.0, 18.0, 21.0, 19.0, 23.0, 23.0, 21.0, 20.0, 24.0, 19.0, 21.0, 19.0, 21.0, 20.0, 17.0, 14.0, 15.0, 12.0, 9.0, 11.0, 11.0, 17.0, 20.0, 16.0, 18.0, 16.0, 15.0, 14.0, 11.0, 9.0, 18.0, 9.0, 6.0, 7.0, 14.0, 11.0, 12.0, 12.0, 12.0, 18.0, 13.0, 13.0, 13.0, 11.0, 3.0, 8.0, 15.0, 9.0, 4.0, 10.0, 10.0, 14.0, 10.0, 11.0, 8.0, 5.0, 4.0, 13.0, 7.0, 1.0, 3.0, 1.0, 0.0, 2.0, 0.0, 6.0, 9.0, 3.0, 3.0, 2.0, 7.0, 1.0, 0.0, 4.0, 7.0, 9.0, 2.0, 4.0, 7.0, 4.0, 6.0, 3.0, 0.0, 6.0, 3.0, 8.0, 1.0, 0.0, 11.0, 12.0, 11.0, 4.0, 6.0, 2.0, 9.0, 8.0, 6.0, 4.0, 5.0, 7.0, 2.0, 0.0, 4.0, 1.0, 1.0, 1.0, 4.0, 1.0, 0.0, 2.0, 2.0, 2.0, 3.0, 1.0, 3.0, 0.0, 0.0, 2.0, 2.0, 9.0, 11.0, 11.0, 7.0, 7.0, 2.0, 3.0, 4.0, 7.0, 6.0, 9.0, 2.0, 2.0, 0.0, 2.0, 0.0, 1.0, 6.0, 7.0, 10.0, 6.0, 4.0, 7.0, 9.0, 7.0, 3.0, 7.0, 12.0, 8.0, 9.0, 10.0, 11.0, 10.0, 11.0, 13.0, 18.0, 11.0, 16.0, 12.0, 11.0, 16.0, 10.0, 13.0, 13.0, 12.0, 11.0, 11.0, 13.0, 19.0, 16.0, 19.0, 22.0, 20.0, 16.0, 17.0, 19.0, 19.0, 17.0, 19.0, 19.0, 17.0, 14.0, 17.0, 19.0, 16.0, 19.0, 20.0, 18.0, 18.0, 23.0, 26.0, 22.0, 20.0, 24.0, 26.0, 24.0, 26.0, 20.0, 20.0, 23.0, 22.0, 22.0, 22.0, 21.0, 22.0, 22.0, 23.0, 24.0, 23.0, 26.0, 24.0, 20.0, 19.0, 21.0, 23.0, 23.0, 24.0, 26.0, 26.0, 24.0, 24.0, 22.0, 21.0, 22.0, 24.0, 24.0, 26.0, 25.0, 27.0, 22.0, 20.0, 23.0, 23.0, 24.0, 24.0, 24.0, 21.0, 21.0, 22.0, 25.0, 26.0, 21.0, 22.0, 20.0, 20.0, 23.0, 26.0, 26.0, 23.0, 22.0, 21.0, 22.0, 22.0, 23.0, 23.0, 23.0, 20.0, 19.0, 22.0, 22.0, 16.0, 21.0, 22.0, 23.0, 19.0, 20.0, 20.0, 18.0, 17.0, 18.0, 16.0, 12.0, 12.0, 17.0, 17.0, 13.0, 14.0, 13.0, 14.0, 16.0, 11.0, 10.0, 11.0, 11.0, 11.0, 11.0, 14.0, 13.0, 11.0, 11.0, 13.0, 12.0, 12.0, 7.0, 10.0, 9.0, 3.0, 2.0, 10.0, 6.0, 9.0, 9.0, 8.0, 9.0, 13.0, 11.0, 10.0, 11.0, 4.0, 8.0, 7.0, 10.0, 6.0, 4.0, 3.0, 8.0, 11.0, 6.0, 8.0, 6.0, 0.0, 3.0, 2.0, 4.0, 9.0, 4.0, 4.0, 11.0, 6.0, 5.0, 3.0, 4.0, 6.0, 9.0, 7.0, 4.0, 3.0, 3.0, 7.0, 3.0, 3.0, 8.0, 7.0, 10.0, 8.0, 3.0, 10.0, 10.0, 3.0, 2.0, 11.0, 10.0, 1.0, 3.0, 1.0, 0.0, 3.0, 4.0, 4.0, 7.0, 3.0, 2.0, 4.0, 8.0, 6.0, 1.0, 4.0, 3.0, 2.0, 3.0, 2.0, 1.0, 0.0, 0.0, 2.0, 2.0, 6.0, 0.0, 6.0, 3.0, 2.0, 2.0, 3.0, 4.0, 3.0, 6.0, 6.0, 7.0, 3.0, 4.0, 8.0, 11.0, 9.0, 6.0, 7.0, 10.0, 12.0, 11.0, 12.0, 12.0, 9.0, 8.0, 8.0, 10.0, 9.0, 17.0, 13.0, 19.0, 15.0, 10.0, 9.0, 12.0, 15.0, 14.0, 12.0, 11.0, 11.0, 11.0, 11.0, 11.0, 14.0, 13.0, 12.0, 15.0, 11.0, 15.0, 16.0, 16.0, 16.0, 11.0, 14.0, 13.0, 11.0, 14.0, 18.0, 20.0, 15.0, 14.0, 17.0, 23.0, 25.0, 26.0, 23.0, 22.0, 24.0, 29.0, 22.0, 19.0, 21.0, 18.0, 19.0, 23.0, 20.0, 21.0, 23.0, 24.0, 23.0, 23.0, 23.0, 23.0, 24.0, 21.0, 18.0, 27.0, 24.0, 22.0, 24.0, 24.0, 27.0, 28.0, 29.0, 27.0, 28.0, 25.0, 26.0, 27.0, 23.0, 24.0, 23.0, 29.0, 28.0, 28.0, 30.0, 26.0, 25.0, 26.0, 28.0, 28.0, 23.0, 23.0, 26.0, 23.0, 23.0, 27.0, 24.0, 23.0, 23.0, 24.0, 26.0, 27.0, 26.0, 26.0, 25.0, 22.0, 21.0, 23.0, 23.0, 26.0, 26.0, 23.0, 24.0, 26.0, 23.0, 24.0, 23.0, 23.0, 26.0, 22.0, 20.0, 18.0, 19.0, 14.0, 18.0, 20.0, 20.0, 21.0, 23.0, 16.0, 16.0, 13.0, 16.0, 17.0, 15.0, 17.0, 15.0, 13.0, 12.0, 8.0, 8.0, 8.0, 7.0, 8.0, 13.0, 13.0, 12.0, 12.0, 13.0, 14.0, 13.0, 11.0, 11.0, 7.0, 14.0, 12.0, 14.0, 6.0, 3.0, 8.0, 6.0, 1.0, 2.0, 13.0, 15.0, 12.0, 6.0, 3.0, 1.0, 1.0, 2.0, 3.0, 1.0, 1.0, 6.0, 7.0, 1.0, 7.0, 1.0, 2.0, 2.0, 1.0, 5.0, 4.0, 4.0, 8.0, 4.0, 3.0, 1.0, 6.0, 2.0, 10.0, 6.0, 7.0, 8.0, 7.0, 1.0, 8.0, 4.0, 8.0, 4.0, 3.0, 4.0, 1.0, 0.0, 11.0, 4.0, 4.0, 4.0, 11.0, 3.0, 3.0, 1.0, 2.0, 0.0, 3.0, 1.0, 3.0, 6.0, 7.0, 2.0, 2.0, 5.0, 1.0, 4.0, 2.0, 2.0, 2.0, 2.0, 3.0, 3.0, 2.0, 7.0, 14.0, 11.0, 10.0, 5.0, 6.0, 4.0, 1.0, 0.0, 4.0, 6.0, 7.0, 9.0, 7.0, 8.0, 9.0, 9.0, 8.0, 9.0, 4.0, 8.0, 9.0, 9.0, 9.0, 10.0, 17.0, 12.0, 14.0, 16.0, 18.0, 11.0, 11.0, 13.0, 8.0, 13.0, 12.0, 14.0, 14.0, 16.0, 18.0, 19.0, 14.0, 14.0, 14.0, 13.0, 16.0, 14.0, 14.0, 16.0, 17.0, 14.0, 13.0, 14.0, 17.0, 17.0, 17.0, 23.0, 18.0, 21.0, 22.0, 18.0, 18.0, 16.0, 17.0, 18.0, 17.0, 22.0, 19.0, 23.0, 24.0, 23.0, 23.0, 22.0, 23.0, 24.0, 22.0, 23.0, 23.0, 22.0, 23.0, 27.0, 22.0, 21.0, 22.0, 22.0, 23.0, 24.0, 26.0, 22.0, 28.0, 28.0, 26.0, 24.0, 26.0, 23.0, 23.0, 24.0, 26.0, 26.0, 27.0, 31.0, 32.0, 32.0, 29.0, 27.0, 27.0, 23.0, 25.0, 22.0, 23.0, 24.0, 24.0, 24.0, 23.0, 26.0, 24.0, 26.0, 24.0, 23.0, 24.0, 21.0, 21.0, 20.0, 18.0, 19.0, 21.0, 22.0, 22.0, 17.0, 16.0, 18.0, 19.0, 19.0, 22.0, 22.0, 18.0, 16.0, 16.0, 20.0, 19.0, 18.0, 19.0, 16.0, 17.0, 18.0, 20.0, 16.0, 13.0, 18.0, 19.0, 17.0, 16.0, 9.0, 10.0, 15.0, 21.0, 16.0, 14.0, 11.0, 9.0, 10.0, 8.0, 6.0, 12.0, 13.0, 17.0, 11.0, 6.0, 8.0, 11.0, 14.0, 17.0, 13.0, 15.0, 13.0, 14.0, 16.0, 14.0, 6.0, 4.0, 6.0, 11.0, 10.0, 11.0, 12.0, 14.0, 14.0, 3.0, 1.0, 4.0, 5.0, 4.0, 9.0, 7.0, 11.0, 8.0, 8.0, 11.0, 6.0, 3.0, 7.0, 6.0, 10.0, 5.0, 6.0, 6.0, 6.0, 7.0, 11.0, 8.0, 4.0, 1.0, 0.0, 7.0, 4.0, 4.0, 1.0, 3.0, 2.0, 1.0, 2.0, 3.0, 8.0, 3.0, 2.0, 1.0, 1.0, 2.0, 10.0, 8.0, 7.0, 5.0, 3.0, 0.0, 2.0, 4.0, 6.0, 5.0, 3.0, 6.0, 3.0, 1.0, 1.0, 3.0, 5.0, 2.0, 10.0, 1.0, 8.0, 8.0, 3.0, 5.0, 4.0, 6.0, 9.0, 9.0, 0.0, 2.0, 6.0, 1.0, 8.0, 12.0, 6.0, 17.0, 13.0, 9.0, 11.0, 8.0, 8.0, 6.0, 5.0, 5.0, 6.0, 4.0, 6.0, 8.0, 9.0, 8.0, 8.0, 11.0, 13.0, 15.0, 19.0, 13.0, 11.0, 12.0, 18.0, 14.0, 14.0, 13.0, 14.0, 11.0, 12.0, 17.0, 18.0, 18.0, 13.0, 20.0, 19.0, 16.0, 10.0, 17.0, 15.0, 16.0, 19.0, 24.0, 21.0, 19.0, 23.0, 22.0, 19.0, 23.0, 19.0, 17.0, 21.0, 23.0, 23.0, 17.0, 16.0, 18.0, 23.0, 22.0, 24.0, 22.0, 22.0, 22.0, 25.0, 26.0, 27.0, 22.0, 19.0, 21.0, 22.0, 25.0, 27.0, 26.0, 25.0, 24.0, 24.0, 25.0, 24.0, 23.0, 26.0, 24.0, 21.0, 21.0, 23.0, 24.0, 25.0, 26.0, 27.0, 28.0, 28.0, 26.0, 26.0, 28.0, 29.0, 25.0, 19.0, 27.0, 23.0, 24.0, 26.0, 23.0, 19.0, 14.0, 17.0, 20.0, 22.0, 24.0, 23.0, 23.0, 23.0, 24.0, 25.0, 22.0, 21.0, 24.0, 25.0, 22.0, 21.0, 18.0, 19.0, 15.0, 16.0, 17.0, 20.0, 20.0, 19.0, 22.0, 23.0, 23.0, 22.0, 17.0, 18.0, 22.0, 23.0, 21.0, 26.0, 21.0, 20.0, 17.0, 14.0, 15.0, 17.0, 17.0, 19.0, 21.0, 18.0, 21.0, 16.0, 12.0, 14.0, 8.0, 12.0, 13.0, 14.0, 9.0, 10.0, 11.0, 7.0, 4.0, 6.0, 6.0, 11.0, 8.0, 11.0, 6.0, 6.0, 7.0, 9.0, 2.0, 9.0, 12.0, 5.0, 7.0, 4.0, 6.0, 1.0, 1.0, 2.0, 1.0, 4.0, 4.0, 7.0, 1.0, 3.0, 1.0, 1.0, 3.0, 5.0, 4.0, 7.0, 1.0, 4.0, 6.0, 4.0, 3.0, 8.0, 3.0, 7.0, 9.0, 13.0, 7.0, 8.0, 3.0, 3.0, 1.0, 1.0, 6.0, 1.0, 2.0, 2.0, 2.0, 2.0, 1.0, 4.0, 1.0, 5.0, 3.0, 8.0, 13.0, 7.0, 5.0, 8.0, 3.0, 6.0, 2.0, 4.0, 2.0, 2.0, 2.0, 1.0, 3.0, 4.0, 1.0, 4.0, 3.0, 4.0, 9.0, 8.0, 4.0, 6.0, 3.0, 4.0, 6.0, 2.0, 8.0, 4.0, 3.0, 8.0, 7.0, 3.0, 3.0, 12.0, 7.0, 8.0, 7.0, 13.0, 8.0, 3.0, 9.0, 7.0, 8.0, 7.0, 16.0, 12.0, 8.0, 9.0, 11.0, 11.0, 13.0, 14.0, 14.0, 16.0, 19.0, 14.0, 12.0, 12.0, 10.0, 8.0, 13.0, 15.0, 17.0, 17.0, 19.0, 14.0, 10.0, 16.0, 16.0, 16.0, 13.0, 13.0, 11.0, 14.0, 13.0, 16.0, 19.0, 17.0, 18.0, 19.0, 22.0, 21.0, 19.0, 19.0, 17.0, 28.0, 28.0, 27.0, 24.0, 22.0, 21.0, 21.0, 20.0, 19.0, 21.0, 22.0, 24.0, 24.0, 25.0, 27.0, 25.0, 24.0, 25.0, 24.0, 24.0, 26.0, 26.0, 27.0, 24.0, 24.0, 26.0, 26.0, 27.0, 28.0, 27.0, 25.0, 24.0, 24.0, 24.0, 22.0, 27.0, 26.0, 27.0, 27.0, 26.0, 24.0, 28.0, 24.0, 23.0, 21.0, 23.0, 23.0, 23.0, 22.0, 25.0, 24.0, 19.0, 21.0, 22.0, 24.0, 21.0, 21.0, 22.0, 22.0, 26.0, 23.0, 25.0, 25.0, 23.0, 22.0, 19.0, 19.0, 20.0, 24.0, 19.0, 19.0, 20.0, 16.0, 19.0, 17.0, 17.0, 17.0, 18.0, 21.0, 19.0, 19.0, 16.0, 14.0, 14.0, 13.0, 13.0, 20.0, 19.0, 20.0, 17.0, 19.0, 20.0, 13.0, 11.0, 13.0, 9.0, 8.0, 8.0, 14.0, 8.0, 6.0, 7.0, 10.0, 10.0, 13.0, 16.0, 17.0, 17.0, 9.0, 8.0, 7.0, 11.0, 15.0, 6.0, 2.0, 0.0, 2.0, 1.0, 5.0, 6.0, 6.0, 6.0, 9.0, 6.0, 3.0, 7.0, 3.0, 4.0, 6.0, 11.0, 6.0, 7.0, 11.0, 7.0, 4.0, 3.0, 3.0, 6.0, 3.0, 5.0, 2.0, 6.0, 3.0, 2.0, 1.0, 5.0, 2.0, 3.0, 2.0, 0.0, 2.0, 1.0, 2.0, 7.0, 9.0, 4.0, 6.0, 2.0, 1.0, 4.0, 2.0, 1.0, 1.0, 1.0, 6.0, 0.0, 4.0, 8.0, 5.0, 4.0, 4.0, 10.0, 10.0, 4.0, 1.0, 2.0, 4.0, 1.0, 1.0, 1.0, 1.0, 4.0, 7.0, 4.0, 7.0, 3.0, 2.0, 5.0, 7.0, 4.0, 9.0, 4.0, 0.0, 6.0, 6.0, 7.0, 7.0, 4.0, 3.0, 4.0, 4.0, 6.0, 11.0, 9.0, 9.0, 8.0, 13.0, 12.0, 9.0, 7.0, 6.0, 9.0, 8.0, 9.0, 9.0, 9.0, 11.0, 10.0, 11.0, 11.0, 11.0, 12.0, 19.0, 22.0, 14.0, 12.0, 16.0, 14.0, 12.0, 13.0, 16.0, 17.0, 14.0, 16.0, 13.0, 16.0, 18.0, 13.0, 13.0, 17.0, 17.0, 19.0, 15.0, 16.0, 14.0, 17.0, 14.0, 22.0, 18.0, 16.0, 15.0, 20.0, 19.0, 19.0, 17.0, 22.0, 17.0, 16.0, 16.0, 18.0, 22.0, 22.0, 23.0, 22.0, 21.0, 23.0, 24.0, 23.0, 24.0, 23.0, 23.0, 22.0, 21.0, 20.0, 19.0, 21.0, 23.0, 22.0, 24.0, 24.0, 23.0, 21.0, 23.0, 22.0, 23.0, 25.0, 26.0, 25.0, 28.0, 26.0, 24.0, 25.0, 27.0, 22.0, 24.0, 28.0, 28.0, 25.0, 23.0, 23.0, 28.0, 27.0, 28.0, 27.0, 27.0, 26.0, 25.0, 27.0, 23.0, 20.0, 20.0, 19.0, 19.0, 21.0, 23.0, 21.0, 22.0, 19.0, 17.0, 22.0, 23.0, 19.0, 16.0, 18.0, 18.0, 20.0, 23.0, 24.0, 18.0, 19.0, 18.0, 13.0, 12.0, 13.0, 16.0, 15.0, 19.0, 16.0, 18.0, 9.0, 13.0, 9.0, 8.0, 7.0, 9.0, 13.0, 14.0, 16.0, 13.0, 12.0, 11.0, 13.0, 12.0, 12.0, 11.0, 11.0, 8.0, 9.0, 7.0, 12.0, 14.0, 12.0, 9.0, 11.0, 13.0, 9.0, 9.0, 12.0, 13.0, 9.0, 12.0, 10.0, 9.0, 9.0, 6.0, 8.0, 14.0, 9.0, 2.0, 5.0, 8.0, 3.0, 3.0, 6.0, 9.0, 2.0, 3.0, 4.0, 0.0, 1.0, 4.0, 1.0, 3.0, 4.0, 4.0, 0.0, 3.0, 3.0, 1.0, 2.0, 2.0, 3.0, 1.0, 1.0, 0.0, 4.0, 4.0, 4.0, 2.0, 4.0, 9.0, 5.0, 2.0, 0.0, 6.0, 1.0, 2.0, 1.0, 1.0, 1.0, 1.0, 1.0, 0.0, 1.0, 1.0, 0.0, 1.0, 2.0, 4.0, 2.0, 3.0, 4.0, 1.0, 1.0, 6.0, 5.0, 3.0, 6.0, 6.0, 11.0, 11.0, 8.0, 9.0, 7.0, 7.0, 11.0, 10.0, 12.0, 13.0, 12.0, 9.0, 12.0, 9.0, 7.0, 10.0, 9.0, 11.0, 12.0, 16.0, 17.0, 21.0, 16.0, 12.0, 14.0, 10.0, 12.0, 16.0, 9.0, 13.0, 14.0, 13.0, 14.0, 14.0, 11.0, 11.0, 9.0, 15.0, 17.0, 22.0, 21.0, 18.0, 19.0, 16.0, 11.0, 10.0, 8.0, 12.0, 18.0, 18.0, 13.0, 15.0, 18.0, 22.0, 19.0, 19.0, 24.0, 21.0, 17.0, 24.0, 23.0, 24.0, 26.0, 21.0, 20.0, 16.0, 19.0, 18.0, 21.0, 22.0, 19.0, 22.0, 23.0, 28.0, 26.0, 28.0, 30.0, 26.0, 31.0, 28.0, 23.0, 23.0, 23.0, 31.0, 32.0, 28.0, 27.0, 27.0, 26.0, 26.0, 27.0, 27.0, 27.0, 28.0, 28.0, 28.0, 26.0, 26.0, 27.0, 26.0, 27.0, 23.0, 24.0, 25.0, 26.0, 29.0, 27.0, 27.0, 28.0, 29.0, 23.0, 23.0, 26.0, 28.0, 24.0, 25.0, 28.0, 20.0, 19.0, 19.0, 24.0, 22.0, 27.0, 29.0, 28.0, 27.0, 26.0, 23.0, 26.0, 21.0, 21.0, 19.0, 21.0, 18.0, 17.0, 20.0, 19.0, 17.0, 22.0, 23.0, 23.0, 20.0, 22.0, 22.0, 23.0, 19.0, 13.0, 16.0, 16.0, 17.0, 18.0, 18.0, 17.0, 14.0, 13.0, 13.0, 13.0, 12.0, 12.0, 14.0, 11.0, 16.0, 18.0, 18.0, 18.0, 12.0, 7.0, 7.0, 7.0, 9.0, 10.0, 7.0, 9.0, 11.0, 9.0, 12.0, 12.0, 13.0, 14.0, 11.0, 7.0, 12.0, 13.0, 8.0, 8.0, 4.0, 11.0, 10.0, 4.0, 3.0, 1.0, 2.0, 0.0, 3.0, 2.0, 2.0, 6.0, 4.0, 3.0, 1.0, 1.0, 2.0, 2.0, 1.0, 4.0, 1.0, 1.0, 1.0, 2.0, 0.0, 1.0, 1.0, 2.0, 1.0, 1.0, 2.0, 2.0, 4.0, 5.0, 2.0, 3.0, 1.0, 3.0, 9.0, 1.0, 1.0, 0.0, 2.0, 3.0, 2.0, 1.0, 2.0, 3.0, 2.0, 1.0, 5.0, 3.0, 2.0, 9.0, 1.0, 1.0, 9.0, 12.0, 3.0, 1.0, 0.0, 7.0, 10.0, 5.0, 5.0, 3.0, 1.0, 6.0, 4.0, 3.0, 7.0, 9.0, 5.0, 3.0, 9.0, 12.0, 17.0, 6.0, 8.0, 3.0, 4.0, 2.0, 3.0, 6.0, 6.0, 5.0, 4.0, 10.0, 9.0, 8.0, 7.0, 7.0, 9.0, 14.0, 10.0, 15.0, 9.0, 13.0, 11.0, 12.0, 11.0, 17.0, 16.0, 15.0, 16.0, 17.0, 12.0, 16.0, 13.0, 14.0, 14.0, 17.0, 18.0, 17.0, 16.0, 14.0, 16.0, 15.0, 19.0, 19.0, 16.0, 15.0, 22.0, 22.0, 19.0, 21.0, 25.0, 24.0, 23.0, 20.0, 21.0, 24.0, 26.0, 27.0, 24.0, 21.0, 18.0, 21.0, 23.0, 22.0, 22.0, 23.0, 23.0, 21.0, 20.0, 23.0, 26.0, 27.0, 24.0, 23.0, 27.0, 26.0, 28.0, 24.0, 27.0, 31.0, 27.0, 24.0, 25.0, 28.0, 29.0, 26.0, 27.0, 32.0, 24.0, 26.0, 26.0, 26.0, 25.0, 27.0, 28.0, 24.0, 24.0, 24.0, 28.0, 26.0, 27.0, 25.0, 24.0, 24.0, 23.0, 24.0, 24.0, 24.0, 24.0, 22.0, 22.0, 24.0, 25.0, 21.0, 22.0, 23.0, 23.0, 21.0, 20.0, 20.0, 23.0, 25.0, 22.0, 23.0, 24.0, 19.0, 15.0, 16.0, 18.0, 20.0, 23.0, 21.0, 23.0, 23.0, 22.0, 21.0, 20.0, 12.0, 14.0, 17.0, 14.0, 14.0, 22.0, 21.0, 17.0, 18.0, 18.0, 17.0, 17.0, 18.0, 17.0, 13.0, 13.0, 14.0, 13.0, 9.0, 7.0, 6.0, 9.0, 8.0, 11.0, 9.0, 11.0, 14.0, 12.0, 15.0, 8.0, 14.0, 16.0, 13.0, 9.0, 6.0, 11.0, 9.0, 10.0, 11.0, 15.0, 14.0, 9.0, 7.0, 7.0, 10.0, 13.0, 10.0, 5.0, 6.0, 3.0, 4.0, 6.0, 11.0, 10.0, 2.0, 7.0, 10.0, 12.0, 7.0, 7.0, 5.0, 0.0, 6.0, 4.0, 6.0, 1.0, 6.0, 1.0, 4.0, 4.0, 8.0, 4.0, 7.0, 4.0, 2.0, 0.0, 6.0, 8.0, 6.0, 4.0, 11.0, 3.0, 8.0, 12.0, 7.0, 3.0, 4.0, 6.0, 2.0, 4.0, 3.0, 3.0, 4.0, 6.0, 3.0, 7.0, 3.0, 8.0, 11.0, 6.0, 5.0, 7.0, 4.0, 4.0, 3.0, 3.0, 1.0, 7.0, 12.0, 7.0, 11.0, 13.0, 16.0, 7.0, 8.0, 13.0, 16.0, 15.0, 16.0, 18.0, 8.0, 6.0, 12.0, 12.0, 8.0, 9.0, 12.0, 15.0, 11.0, 14.0, 12.0, 9.0, 12.0, 12.0, 19.0, 21.0, 14.0, 13.0, 14.0, 11.0, 12.0, 10.0, 11.0, 10.0, 10.0, 16.0, 12.0, 12.0, 16.0, 13.0, 16.0, 16.0, 15.0, 16.0, 19.0, 17.0, 19.0, 18.0, 16.0, 17.0, 18.0, 19.0, 18.0, 21.0, 26.0, 22.0, 23.0, 19.0, 16.0, 15.0, 17.0, 20.0, 21.0, 21.0, 21.0, 19.0, 19.0, 21.0, 17.0, 20.0, 28.0, 31.0, 28.0, 21.0, 19.0, 24.0, 25.0, 28.0, 27.0, 26.0, 30.0, 26.0, 26.0, 25.0, 25.0, 24.0, 26.0, 28.0, 29.0, 29.0, 24.0, 19.0, 25.0, 29.0, 25.0, 27.0, 28.0, 23.0, 24.0, 25.0, 26.0, 27.0, 28.0, 24.0, 26.0, 27.0, 24.0, 26.0, 24.0, 24.0, 26.0, 25.0, 22.0, 24.0, 24.0, 24.0, 25.0, 24.0, 28.0, 23.0, 23.0, 26.0, 24.0, 26.0, 24.0, 25.0, 19.0, 18.0, 21.0, 21.0, 21.0, 19.0, 23.0, 18.0, 17.0, 18.0, 16.0, 18.0, 21.0, 22.0, 20.0, 17.0, 19.0, 21.0, 22.0, 21.0, 11.0, 13.0, 16.0, 12.0, 11.0, 18.0, 13.0, 11.0, 13.0, 18.0, 16.0, 15.0, 16.0, 14.0, 16.0, 9.0, 9.0, 9.0, 6.0, 3.0, 3.0, 4.0, 7.0, 13.0, 9.0, 6.0, 5.0, 6.0, 6.0, 7.0, 8.0, 7.0, 6.0, 4.0, 4.0, 4.0, 4.0, 12.0, 11.0, 8.0, 2.0, 3.0, 11.0, 9.0, 4.0, 4.0, 5.0, 7.0, 11.0, 7.0, 5.0, 8.0, 3.0, 2.0, 4.0, 2.0, 1.0, 2.0, 2.0, 2.0, 4.0, 4.0, 5.0, 7.0, 4.0, 9.0, 3.0, 2.0, 5.0, 1.0, 6.0, 8.0, 7.0, 7.0, 1.0, 5.0, 8.0, 6.0, 2.0, 2.0, 1.0, 2.0, 2.0, 0.0, 4.0, 6.0, 2.0, 4.0, 5.0, 3.0, 1.0, 1.0, 0.0, 4.0, 3.0, 7.0, 8.0, 6.0, 2.0, 4.0, 4.0, 2.0, 2.0, 8.0, 9.0, 8.0, 2.0, 4.0, 1.0, 4.0, 4.0, 2.0, 3.0, 3.0, 7.0, 7.0, 7.0, 10.0, 4.0, 5.0, 4.0, 11.0, 13.0, 18.0, 17.0, 12.0, 7.0, 9.0, 11.0, 15.0, 11.0, 14.0, 7.0, 8.0, 10.0, 13.0, 12.0, 12.0, 13.0, 12.0, 12.0, 12.0, 12.0, 16.0, 16.0, 17.0, 18.0, 11.0, 11.0, 13.0, 18.0, 18.0, 18.0, 21.0, 18.0, 19.0, 14.0, 16.0, 19.0, 24.0, 24.0, 21.0, 20.0, 18.0, 18.0, 17.0, 19.0, 23.0, 21.0, 16.0, 17.0, 24.0, 22.0, 21.0, 19.0, 20.0, 27.0, 27.0, 26.0, 26.0, 25.0, 24.0, 24.0, 24.0, 27.0, 27.0, 27.0, 26.0, 27.0, 24.0, 31.0, 31.0, 31.0, 32.0, 31.0, 27.0, 27.0, 26.0, 19.0, 23.0, 26.0, 24.0, 24.0, 23.0, 25.0, 22.0, 22.0, 24.0, 24.0, 26.0, 24.0, 23.0, 21.0, 21.0, 22.0, 22.0, 25.0, 26.0, 24.0, 25.0, 24.0, 27.0, 25.0, 24.0, 24.0, 25.0, 23.0, 23.0, 18.0, 17.0, 24.0, 27.0, 24.0, 21.0, 19.0, 14.0, 16.0, 18.0, 19.0, 15.0, 17.0, 17.0, 17.0, 16.0, 17.0, 21.0, 23.0, 21.0, 22.0, 21.0, 17.0, 15.0, 16.0, 18.0, 14.0, 16.0, 16.0, 19.0, 17.0, 14.0, 16.0, 10.0, 9.0, 9.0, 10.0, 11.0, 12.0, 16.0, 18.0, 5.0, 8.0, 11.0, 12.0, 8.0, 9.0, 6.0, 2.0, 7.0, 7.0, 16.0, 7.0, 4.0, 6.0, 12.0, 1.0, 7.0, 9.0, 2.0, 7.0, 8.0, 6.0, 11.0, 8.0, 3.0, 1.0, 1.0, 3.0, 1.0, 1.0, 1.0, 0.0, 3.0, 7.0, 10.0, 2.0, 1.0, 3.0, 2.0, 2.0, 3.0, 10.0, 3.0, 11.0, 8.0, 2.0, 1.0, 4.0, 8.0, 3.0, 4.0, 3.0, 5.0, 11.0, 9.0, 9.0, 1.0, 8.0, 7.0, 6.0, 1.0, 2.0, 2.0, 1.0, 2.0, 2.0, 4.0, 6.0, 7.0, 1.0, 3.0, 1.0, 2.0, 4.0, 5.0, 3.0, 1.0, 3.0, 4.0, 7.0, 3.0, 6.0, 1.0, 4.0, 0.0, 6.0, 11.0, 8.0, 3.0, 0.0, 1.0, 1.0, 3.0, 9.0, 7.0, 2.0, 1.0, 0.0, 1.0, 7.0, 7.0, 8.0, 6.0, 11.0, 6.0, 7.0, 14.0, 12.0, 8.0, 14.0, 15.0, 7.0, 5.0, 5.0, 9.0, 12.0, 12.0, 12.0, 11.0, 13.0, 9.0, 9.0, 17.0, 16.0, 16.0, 16.0, 14.0, 13.0, 16.0, 19.0, 16.0, 14.0, 19.0, 17.0, 17.0, 19.0, 20.0, 16.0, 17.0, 23.0, 16.0, 14.0, 17.0, 19.0, 22.0, 23.0, 21.0, 22.0, 19.0, 23.0, 19.0, 21.0, 23.0, 22.0, 24.0, 28.0, 23.0, 23.0, 22.0, 22.0, 24.0, 27.0, 22.0, 23.0, 26.0, 26.0, 26.0, 25.0, 27.0, 26.0, 26.0, 24.0, 25.0, 24.0, 25.0, 24.0, 24.0, 23.0, 24.0, 25.0, 26.0, 24.0, 25.0, 22.0, 22.0, 23.0, 25.0, 24.0, 26.0, 26.0, 25.0, 24.0, 24.0, 24.0, 25.0, 23.0, 21.0, 23.0, 22.0, 23.0, 23.0, 23.0, 24.0, 24.0, 25.0, 24.0, 22.0, 28.0, 27.0, 25.0, 26.0, 22.0, 21.0, 22.0, 25.0, 22.0, 17.0, 18.0, 18.0, 20.0, 17.0, 18.0, 16.0, 18.0, 17.0, 21.0, 22.0, 19.0, 18.0, 18.0, 17.0, 14.0, 21.0, 21.0, 17.0, 14.0, 13.0, 21.0, 22.0, 19.0, 19.0, 11.0, 16.0, 13.0, 12.0, 14.0, 14.0, 15.0, 17.0, 12.0, 11.0, 11.0, 15.0, 15.0, 11.0, 9.0, 9.0, 12.0, 13.0, 7.0, 5.0, 9.0, 2.0, 1.0, 4.0, 1.0, 16.0, 13.0, 7.0, 2.0, 11.0, 6.0, 7.0, 6.0, 6.0, 0.0, 6.0, 3.0, 2.0, 3.0, 5.0, 6.0, 9.0, 5.0, 2.0, 6.0, 9.0, 11.0, 7.0, 5.0, 0.0, 1.0, 4.0, 3.0, 6.0, 8.0, 9.0, 2.0, 3.0, 2.0, 3.0, 1.0, 1.0, 3.0, 0.0, 2.0, 1.0, 2.0, 4.0, 4.0, 3.0, 2.0, 4.0, 7.0, 1.0, 3.0, 7.0, 2.0, 1.0, 2.0, 2.0, 9.0, 6.0, 5.0, 8.0, 11.0, 4.0, 8.0, 2.0, 2.0, 3.0, 1.0, 2.0, 3.0, 1.0, 7.0, 6.0, 6.0, 11.0, 6.0, 2.0, 6.0, 8.0, 2.0, 3.0, 2.0, 1.0, 2.0, 3.0, 9.0, 7.0, 8.0, 6.0, 7.0, 7.0, 10.0, 11.0, 6.0, 5.0, 9.0, 12.0, 14.0, 16.0, 12.0, 16.0, 12.0, 15.0, 13.0, 9.0, 8.0, 13.0, 16.0, 18.0, 13.0, 11.0, 17.0, 21.0, 17.0, 17.0, 17.0, 21.0, 24.0, 18.0, 16.0, 17.0, 17.0, 19.0, 17.0, 14.0, 19.0, 20.0, 20.0, 21.0, 22.0, 14.0, 12.0, 16.0, 16.0, 17.0, 19.0, 24.0, 22.0, 25.0, 26.0, 23.0, 23.0, 23.0, 20.0, 26.0, 28.0, 27.0, 26.0, 24.0, 24.0, 22.0, 23.0, 26.0, 24.0, 24.0, 26.0, 28.0, 24.0, 27.0, 26.0, 25.0, 26.0, 23.0, 23.0, 31.0, 28.0, 27.0, 26.0, 26.0, 27.0, 27.0, 29.0, 27.0, 28.0, 27.0, 27.0, 27.0, 26.0, 26.0, 24.0, 25.0, 27.0, 26.0, 24.0, 28.0, 27.0, 27.0, 28.0, 27.0, 26.0, 27.0, 24.0, 24.0, 23.0, 28.0, 27.0, 26.0, 28.0, 26.0, 28.0, 27.0, 24.0, 23.0, 21.0, 22.0, 23.0, 23.0, 23.0, 19.0, 20.0, 21.0, 22.0, 21.0, 21.0, 24.0, 21.0, 15.0, 12.0, 16.0, 17.0, 18.0, 17.0, 20.0, 17.0, 19.0, 18.0, 15.0, 16.0, 7.0, 16.0, 17.0, 17.0, 13.0, 12.0, 11.0, 16.0, 19.0, 13.0, 14.0, 14.0, 16.0, 16.0, 21.0, 9.0, 13.0, 13.0, 13.0, 13.0, 14.0, 8.0, 11.0, 16.0, 12.0, 5.0, 4.0, 6.0, 12.0, 6.0, 10.0, 11.0, 11.0, 8.0, 9.0, 8.0, 7.0, 12.0, 11.0, 14.0, 15.0, 9.0, 13.0, 9.0, 8.0, 13.0, 13.0, 17.0, 6.0, 6.0, 8.0, 9.0, 3.0, 6.0, 1.0, 3.0, 4.0, 1.0, 1.0, 2.0, 0.0, 5.0, 4.0, 1.0, 1.0, 3.0, 1.0, 4.0, 3.0, 1.0, 3.0, 10.0, 7.0, 9.0, 9.0, 3.0, 1.0, 0.0, 2.0, 3.0, 6.0, 8.0, 4.0, 0.0, 1.0, 6.0, 4.0, 9.0, 9.0, 2.0, 11.0, 8.0, 6.0, 0.0, 1.0, 7.0, 11.0, 11.0, 17.0, 15.0, 8.0, 11.0, 10.0, 12.0, 12.0, 6.0, 7.0, 15.0, 11.0, 12.0, 9.0, 6.0, 13.0, 15.0, 4.0, 2.0, 3.0, 12.0, 7.0, 10.0, 11.0, 8.0, 9.0, 9.0, 17.0, 17.0, 14.0, 13.0, 17.0, 13.0, 13.0, 10.0, 12.0, 11.0, 11.0, 11.0, 11.0, 11.0, 11.0, 16.0, 13.0, 16.0, 17.0, 15.0, 13.0, 15.0, 15.0, 15.0, 17.0, 16.0, 21.0, 22.0, 23.0, 21.0, 23.0, 24.0, 19.0, 18.0, 24.0, 24.0, 17.0, 18.0, 21.0, 20.0, 22.0, 23.0, 20.0, 20.0, 21.0, 26.0, 27.0, 25.0, 25.0, 23.0, 23.0, 27.0, 26.0, 23.0, 27.0, 27.0, 28.0, 26.0, 24.0, 23.0, 24.0, 27.0, 29.0, 28.0, 27.0, 24.0, 26.0, 28.0, 27.0, 29.0, 28.0, 27.0, 26.0, 23.0, 23.0, 22.0, 22.0, 24.0, 26.0, 26.0, 26.0, 29.0, 28.0, 28.0, 28.0, 28.0, 26.0, 28.0, 24.0, 22.0, 24.0, 24.0, 28.0, 28.0, 25.0, 26.0, 24.0, 23.0, 23.0, 26.0, 24.0, 29.0, 21.0, 22.0, 24.0, 21.0, 18.0, 22.0, 24.0, 24.0, 23.0, 21.0, 17.0, 20.0, 18.0, 17.0, 16.0, 19.0, 18.0, 16.0, 17.0, 17.0, 13.0, 12.0, 14.0, 16.0, 13.0, 20.0, 20.0, 23.0, 19.0, 19.0, 14.0, 9.0, 8.0, 11.0, 10.0, 11.0, 10.0, 16.0, 18.0, 13.0, 8.0, 12.0, 13.0, 10.0, 12.0, 10.0, 11.0, 12.0, 13.0, 13.0, 4.0, 5.0, 6.0, 11.0, 7.0, 13.0, 13.0, 11.0, 8.0, 8.0, 6.0, 7.0, 4.0, 3.0, 5.0, 5.0, 4.0, 2.0, 4.0, 1.0, 2.0, 2.0, 6.0, 6.0, 11.0, 3.0, 3.0, 4.0, 7.0, 8.0, 0.0, 0.0, 7.0, 1.0, 8.0, 12.0, 8.0, 5.0, 5.0, 8.0, 7.0, 6.0, 4.0, 7.0, 9.0, 5.0, 2.0, 2.0, 3.0, 4.0, 1.0, 6.0, 4.0, 11.0, 0.0, 3.0, 2.0, 1.0, 4.0, 1.0, 2.0, 3.0, 7.0, 9.0, 12.0, 6.0, 11.0, 13.0, 10.0, 1.0, 0.0, 8.0, 12.0, 13.0, 3.0, 3.0, 1.0, 4.0, 1.0, 3.0, 7.0, 10.0, 3.0, 1.0, 5.0, 9.0, 8.0, 11.0, 7.0, 5.0, 11.0, 10.0, 11.0, 9.0, 8.0, 12.0, 14.0, 17.0, 14.0, 19.0, 13.0, 9.0, 14.0, 12.0, 11.0, 13.0, 14.0, 16.0, 18.0, 15.0, 20.0, 16.0, 12.0, 13.0, 11.0, 13.0, 13.0, 13.0, 12.0, 17.0, 20.0, 19.0, 24.0, 27.0, 15.0, 18.0, 17.0, 15.0, 19.0, 14.0, 19.0, 22.0, 19.0, 19.0, 14.0, 16.0, 16.0, 20.0, 27.0, 28.0, 23.0, 19.0, 19.0, 23.0, 22.0, 26.0, 23.0, 25.0, 22.0, 21.0, 23.0, 22.0, 23.0, 27.0, 24.0, 23.0, 24.0, 24.0, 27.0, 28.0, 29.0, 20.0, 26.0, 26.0, 28.0, 30.0, 31.0, 21.0, 20.0, 21.0, 22.0, 25.0, 24.0, 26.0, 26.0, 24.0, 26.0, 21.0, 23.0, 23.0, 24.0, 23.0, 24.0, 22.0, 26.0, 24.0, 25.0, 26.0, 27.0, 25.0, 24.0, 22.0, 21.0, 19.0, 21.0, 24.0, 18.0, 24.0, 20.0, 20.0, 20.0]\n"
   ]
  },
  {
   "cell_type": "code",
   "execution_count": 367,
   "metadata": {},
   "outputs": [],
   "source": [
    "close[\"temp\"] = mean_temps"
   ]
  },
  {
   "cell_type": "code",
   "execution_count": 368,
   "metadata": {},
   "outputs": [
    {
     "data": {
      "text/plain": [
       "<matplotlib.axes._subplots.AxesSubplot at 0x1b246544b38>"
      ]
     },
     "execution_count": 368,
     "metadata": {},
     "output_type": "execute_result"
    },
    {
     "data": {
      "image/png": "[encoded data removed]",
      "text/plain": [
       "<matplotlib.figure.Figure at 0x1b2484ac6a0>"
      ]
     },
     "metadata": {},
     "output_type": "display_data"
    }
   ],
   "source": [
    "close.plot(y=\"temp\")"
   ]
  },
  {
   "cell_type": "markdown",
   "metadata": {},
   "source": [
    "It would be cheating if we would take SPY value of the current day (or even headlines @siraj :P) because this information will of course change the MSFT value on that day, but then it's not \"predicting\" the stock market movement, it's just reading it."
   ]
  },
  {
   "cell_type": "code",
   "execution_count": null,
   "metadata": {
    "collapsed": true
   },
   "outputs": [],
   "source": []
  },
  {
   "cell_type": "code",
   "execution_count": 369,
   "metadata": {},
   "outputs": [],
   "source": [
    "close[\"shifted_spy_diff\"] = (close[\"SPY\"].shift(+1) - close[\"SPY\"].shift(+2)) / close[\"SPY\"].shift(+2)"
   ]
  },
  {
   "cell_type": "code",
   "execution_count": 370,
   "metadata": {},
   "outputs": [],
   "source": [
    "close[\"yesterday\"] = close[\"MSFT\"].shift(+1)"
   ]
  },
  {
   "cell_type": "code",
   "execution_count": 371,
   "metadata": {
    "collapsed": true
   },
   "outputs": [],
   "source": [
    "close[\"msft_diff\"] = (close[\"MSFT\"] - close[\"MSFT\"].shift(+1)) / close[\"MSFT\"].shift(+1)"
   ]
  },
  {
   "cell_type": "code",
   "execution_count": 372,
   "metadata": {},
   "outputs": [
    {
     "data": {
      "text/html": [
       "<div>\n",
       "<style>\n",
       "    .dataframe thead tr:only-child th {\n",
       "        text-align: right;\n",
       "    }\n",
       "\n",
       "    .dataframe thead th {\n",
       "        text-align: left;\n",
       "    }\n",
       "\n",
       "    .dataframe tbody tr th {\n",
       "        vertical-align: top;\n",
       "    }\n",
       "</style>\n",
       "<table border=\"1\" class=\"dataframe\">\n",
       "  <thead>\n",
       "    <tr style=\"text-align: right;\">\n",
       "      <th></th>\n",
       "      <th>MSFT</th>\n",
       "      <th>SPY</th>\n",
       "      <th>GDP</th>\n",
       "      <th>temp</th>\n",
       "      <th>shifted_spy_diff</th>\n",
       "      <th>yesterday</th>\n",
       "      <th>msft_diff</th>\n",
       "    </tr>\n",
       "  </thead>\n",
       "  <tbody>\n",
       "    <tr>\n",
       "      <th>2000-01-03</th>\n",
       "      <td>58.28125</td>\n",
       "      <td>145.4375</td>\n",
       "      <td>34620.0</td>\n",
       "      <td>11.0</td>\n",
       "      <td>NaN</td>\n",
       "      <td>NaN</td>\n",
       "      <td>NaN</td>\n",
       "    </tr>\n",
       "    <tr>\n",
       "      <th>2000-01-04</th>\n",
       "      <td>56.31250</td>\n",
       "      <td>139.7500</td>\n",
       "      <td>34620.0</td>\n",
       "      <td>11.0</td>\n",
       "      <td>NaN</td>\n",
       "      <td>58.28125</td>\n",
       "      <td>-0.033780</td>\n",
       "    </tr>\n",
       "    <tr>\n",
       "      <th>2000-01-05</th>\n",
       "      <td>56.90625</td>\n",
       "      <td>140.0000</td>\n",
       "      <td>34620.0</td>\n",
       "      <td>3.0</td>\n",
       "      <td>-0.039106</td>\n",
       "      <td>56.31250</td>\n",
       "      <td>0.010544</td>\n",
       "    </tr>\n",
       "    <tr>\n",
       "      <th>2000-01-06</th>\n",
       "      <td>55.00000</td>\n",
       "      <td>137.7500</td>\n",
       "      <td>34620.0</td>\n",
       "      <td>1.0</td>\n",
       "      <td>0.001789</td>\n",
       "      <td>56.90625</td>\n",
       "      <td>-0.033498</td>\n",
       "    </tr>\n",
       "    <tr>\n",
       "      <th>2000-01-07</th>\n",
       "      <td>55.71875</td>\n",
       "      <td>145.7500</td>\n",
       "      <td>34620.0</td>\n",
       "      <td>6.0</td>\n",
       "      <td>-0.016071</td>\n",
       "      <td>55.00000</td>\n",
       "      <td>0.013068</td>\n",
       "    </tr>\n",
       "  </tbody>\n",
       "</table>\n",
       "</div>"
      ],
      "text/plain": [
       "                MSFT       SPY      GDP  temp  shifted_spy_diff  yesterday  \\\n",
       "2000-01-03  58.28125  145.4375  34620.0  11.0               NaN        NaN   \n",
       "2000-01-04  56.31250  139.7500  34620.0  11.0               NaN   58.28125   \n",
       "2000-01-05  56.90625  140.0000  34620.0   3.0         -0.039106   56.31250   \n",
       "2000-01-06  55.00000  137.7500  34620.0   1.0          0.001789   56.90625   \n",
       "2000-01-07  55.71875  145.7500  34620.0   6.0         -0.016071   55.00000   \n",
       "\n",
       "            msft_diff  \n",
       "2000-01-03        NaN  \n",
       "2000-01-04  -0.033780  \n",
       "2000-01-05   0.010544  \n",
       "2000-01-06  -0.033498  \n",
       "2000-01-07   0.013068  "
      ]
     },
     "execution_count": 372,
     "metadata": {},
     "output_type": "execute_result"
    }
   ],
   "source": [
    "close.head()"
   ]
  },
  {
   "cell_type": "code",
   "execution_count": 373,
   "metadata": {},
   "outputs": [],
   "source": [
    "msftmax = close[\"MSFT\"].max()\n",
    "tempmax = close[\"temp\"].max()\n",
    "gpdmax = close[\"GDP\"].max()"
   ]
  },
  {
   "cell_type": "code",
   "execution_count": 374,
   "metadata": {},
   "outputs": [],
   "source": [
    "close[\"MSFT\"]/=msftmax\n",
    "close[\"yesterday\"]/=msftmax\n",
    "close[\"temp\"]/=tempmax\n",
    "close[\"GDP\"]/=gpdmax\n"
   ]
  },
  {
   "cell_type": "code",
   "execution_count": 375,
   "metadata": {},
   "outputs": [],
   "source": [
    "close=close.dropna()\n"
   ]
  },
  {
   "cell_type": "code",
   "execution_count": 376,
   "metadata": {},
   "outputs": [
    {
     "name": "stdout",
     "output_type": "stream",
     "text": [
      "                MSFT     SPY       GDP     temp  shifted_spy_diff  yesterday  \\\n",
      "2000-01-05  0.761084  140.00  0.602443  0.09375         -0.039106   0.753143   \n",
      "2000-01-06  0.735589  137.75  0.602443  0.03125          0.001789   0.761084   \n",
      "2000-01-07  0.745202  145.75  0.602443  0.18750         -0.016071   0.735589   \n",
      "2000-01-10  0.750635  146.25  0.602443  0.28125          0.058076   0.745202   \n",
      "2000-01-11  0.731410  144.50  0.602443  0.21875          0.003431   0.750635   \n",
      "\n",
      "            msft_diff  \n",
      "2000-01-05   0.010544  \n",
      "2000-01-06  -0.033498  \n",
      "2000-01-07   0.013068  \n",
      "2000-01-10   0.007291  \n",
      "2000-01-11  -0.025612  \n",
      "entries: 4448\n"
     ]
    }
   ],
   "source": [
    "print(close.head())\n",
    "print(\"entries:\", len(close))"
   ]
  },
  {
   "cell_type": "code",
   "execution_count": 377,
   "metadata": {},
   "outputs": [],
   "source": [
    "y = close.values[:4000,-1]\n",
    "X = close.values[:4000,2:-1]\n",
    "y_test = close.values[4000:,-1]\n",
    "X_test = close.values[4000:,2:-1]"
   ]
  },
  {
   "cell_type": "markdown",
   "metadata": {},
   "source": [
    "For wavenet, I found 2 implementations, one using tensorflow and another one using keras. For the tensorflow-implementation, someone also implemented local conditioning, which I will use to add the additional data sources.\n",
    "\n",
    "The implementation expects a wave-file for the main source and a json file with the conditioning information. Let's create them:"
   ]
  },
  {
   "cell_type": "code",
   "execution_count": 378,
   "metadata": {},
   "outputs": [],
   "source": [
    "from scipy.io.wavfile import write\n",
    "import json\n",
    "import sklearn.preprocessing"
   ]
  },
  {
   "cell_type": "code",
   "execution_count": null,
   "metadata": {
    "collapsed": true
   },
   "outputs": [],
   "source": []
  },
  {
   "cell_type": "code",
   "execution_count": 379,
   "metadata": {},
   "outputs": [],
   "source": [
    "write(\"X.wav\", 4000, y) #the last column is MSFT from yesterday"
   ]
  },
  {
   "cell_type": "code",
   "execution_count": 380,
   "metadata": {},
   "outputs": [],
   "source": [
    "json.dump(list(map(list, X)), open(\"X.json\", \"w\")) #the rest is GDP, temp and spy"
   ]
  },
  {
   "cell_type": "markdown",
   "metadata": {},
   "source": [
    "for generation, we need to create the local conditioning for the test phase:"
   ]
  },
  {
   "cell_type": "code",
   "execution_count": 381,
   "metadata": {},
   "outputs": [],
   "source": [
    "json.dump(list(map(list, X_test)), open(\"X_test.json\", \"w\")) #the rest is GDP, temp and spy"
   ]
  },
  {
   "cell_type": "markdown",
   "metadata": {},
   "source": [
    "The wav-file has to be read with audacity and then exported again, because somehow the wavenet-implementation doesn't like it if directly exported with scipy.."
   ]
  },
  {
   "cell_type": "markdown",
   "metadata": {},
   "source": [
    "I put these files on a high performance GPU-cluster, because wavenet is sooooo slow.. it took around 1 hour to train it on a P100."
   ]
  },
  {
   "cell_type": "markdown",
   "metadata": {},
   "source": [
    "We will generate a wave file from this data using the local condition of the test phase, so we need to generate that many samples:"
   ]
  },
  {
   "cell_type": "code",
   "execution_count": 382,
   "metadata": {},
   "outputs": [
    {
     "data": {
      "text/plain": [
       "448"
      ]
     },
     "execution_count": 382,
     "metadata": {},
     "output_type": "execute_result"
    }
   ],
   "source": [
    "len(X_test)"
   ]
  },
  {
   "cell_type": "markdown",
   "metadata": {},
   "source": [
    "Now import the generated wave file back in:"
   ]
  },
  {
   "cell_type": "code",
   "execution_count": 393,
   "metadata": {
    "collapsed": true
   },
   "outputs": [],
   "source": [
    "from scipy.io.wavfile import read\n",
    "rate, prediction = read(\"stk_prediction.wav\")\n"
   ]
  },
  {
   "cell_type": "code",
   "execution_count": null,
   "metadata": {},
   "outputs": [],
   "source": []
  },
  {
   "cell_type": "code",
   "execution_count": null,
   "metadata": {},
   "outputs": [],
   "source": []
  },
  {
   "cell_type": "code",
   "execution_count": 394,
   "metadata": {},
   "outputs": [
    {
     "data": {
      "text/plain": [
       "[<matplotlib.lines.Line2D at 0x1b247e6a4a8>]"
      ]
     },
     "execution_count": 394,
     "metadata": {},
     "output_type": "execute_result"
    },
    {
     "data": {
      "image/png": "[encoded data removed]",
      "text/plain": [
       "<matplotlib.figure.Figure at 0x1b247dfcba8>"
      ]
     },
     "metadata": {},
     "output_type": "display_data"
    }
   ],
   "source": [
    "plt.plot(prediction[-448:])"
   ]
  },
  {
   "cell_type": "code",
   "execution_count": 395,
   "metadata": {},
   "outputs": [],
   "source": [
    "pred = np.cumprod(prediction[-448:]+1) * close[\"MSFT\"][4000]*msftmax"
   ]
  },
  {
   "cell_type": "code",
   "execution_count": 396,
   "metadata": {},
   "outputs": [
    {
     "data": {
      "text/plain": [
       "<matplotlib.legend.Legend at 0x1b247f03860>"
      ]
     },
     "execution_count": 396,
     "metadata": {},
     "output_type": "execute_result"
    },
    {
     "data": {
      "image/png": "[encoded data removed]",
      "text/plain": [
       "<matplotlib.figure.Figure at 0x1b247e1ceb8>"
      ]
     },
     "metadata": {},
     "output_type": "display_data"
    }
   ],
   "source": [
    "f,ax = plt.subplots(1)\n",
    "ax.plot(pred, label=\"prediction\")\n",
    "ax.plot(close[\"MSFT\"].values[4000:]*msftmax, label=\"real\")\n",
    "plt.legend(loc=0)"
   ]
  },
  {
   "cell_type": "code",
   "execution_count": null,
   "metadata": {},
   "outputs": [],
   "source": []
  },
  {
   "cell_type": "code",
   "execution_count": null,
   "metadata": {},
   "outputs": [],
   "source": []
  },
  {
   "cell_type": "code",
   "execution_count": null,
   "metadata": {
    "collapsed": true
   },
   "outputs": [],
   "source": []
  }
 ],
 "metadata": {
  "kernelspec": {
   "display_name": "Python 3",
   "language": "python",
   "name": "python3"
  },
  "language_info": {
   "codemirror_mode": {
    "name": "ipython",
    "version": 3
   },
   "file_extension": ".py",
   "mimetype": "text/x-python",
   "name": "python",
   "nbconvert_exporter": "python",
   "pygments_lexer": "ipython3",
   "version": "3.6.1"
  }
 },
 "nbformat": 4,
 "nbformat_minor": 2
}
